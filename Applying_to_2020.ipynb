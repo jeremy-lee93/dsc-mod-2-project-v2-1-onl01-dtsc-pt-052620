{
 "cells": [
  {
   "cell_type": "code",
   "execution_count": 1,
   "metadata": {},
   "outputs": [],
   "source": [
    "# importing necessary libraries\n",
    "import pandas as pd\n",
    "import numpy as np\n",
    "import matplotlib.pyplot as plt\n",
    "import seaborn as sns\n",
    "import time\n",
    "import requests\n",
    "from bs4 import BeautifulSoup\n",
    "import json\n",
    "%matplotlib inline"
   ]
  },
  {
   "cell_type": "code",
   "execution_count": 2,
   "metadata": {},
   "outputs": [
    {
     "data": {
      "text/html": [
       "<div>\n",
       "<style scoped>\n",
       "    .dataframe tbody tr th:only-of-type {\n",
       "        vertical-align: middle;\n",
       "    }\n",
       "\n",
       "    .dataframe tbody tr th {\n",
       "        vertical-align: top;\n",
       "    }\n",
       "\n",
       "    .dataframe thead th {\n",
       "        text-align: right;\n",
       "    }\n",
       "</style>\n",
       "<table border=\"1\" class=\"dataframe\">\n",
       "  <thead>\n",
       "    <tr style=\"text-align: right;\">\n",
       "      <th></th>\n",
       "      <th>zipcode</th>\n",
       "      <th>price</th>\n",
       "      <th>beds</th>\n",
       "      <th>baths</th>\n",
       "      <th>sqft_above</th>\n",
       "      <th>year_built</th>\n",
       "      <th>latitude</th>\n",
       "      <th>longitude</th>\n",
       "    </tr>\n",
       "  </thead>\n",
       "  <tbody>\n",
       "    <tr>\n",
       "      <th>0</th>\n",
       "      <td>98346</td>\n",
       "      <td>440005</td>\n",
       "      <td>3.0</td>\n",
       "      <td>1.75</td>\n",
       "      <td>1759.0</td>\n",
       "      <td>1992.0</td>\n",
       "      <td>47.757648</td>\n",
       "      <td>-122.477474</td>\n",
       "    </tr>\n",
       "    <tr>\n",
       "      <th>1</th>\n",
       "      <td>98346</td>\n",
       "      <td>869000</td>\n",
       "      <td>4.0</td>\n",
       "      <td>3.00</td>\n",
       "      <td>4326.0</td>\n",
       "      <td>2007.0</td>\n",
       "      <td>47.763032</td>\n",
       "      <td>-122.480182</td>\n",
       "    </tr>\n",
       "    <tr>\n",
       "      <th>2</th>\n",
       "      <td>98346</td>\n",
       "      <td>660000</td>\n",
       "      <td>2.0</td>\n",
       "      <td>2.50</td>\n",
       "      <td>2423.0</td>\n",
       "      <td>1981.0</td>\n",
       "      <td>47.786547</td>\n",
       "      <td>-122.500788</td>\n",
       "    </tr>\n",
       "    <tr>\n",
       "      <th>3</th>\n",
       "      <td>98346</td>\n",
       "      <td>269900</td>\n",
       "      <td>3.0</td>\n",
       "      <td>2.00</td>\n",
       "      <td>1138.0</td>\n",
       "      <td>1991.0</td>\n",
       "      <td>47.812363</td>\n",
       "      <td>-122.575620</td>\n",
       "    </tr>\n",
       "    <tr>\n",
       "      <th>4</th>\n",
       "      <td>98346</td>\n",
       "      <td>305000</td>\n",
       "      <td>3.0</td>\n",
       "      <td>2.00</td>\n",
       "      <td>1504.0</td>\n",
       "      <td>2005.0</td>\n",
       "      <td>47.813073</td>\n",
       "      <td>-122.576232</td>\n",
       "    </tr>\n",
       "  </tbody>\n",
       "</table>\n",
       "</div>"
      ],
      "text/plain": [
       "   zipcode   price  beds  baths  sqft_above  year_built   latitude   longitude\n",
       "0    98346  440005   3.0   1.75      1759.0      1992.0  47.757648 -122.477474\n",
       "1    98346  869000   4.0   3.00      4326.0      2007.0  47.763032 -122.480182\n",
       "2    98346  660000   2.0   2.50      2423.0      1981.0  47.786547 -122.500788\n",
       "3    98346  269900   3.0   2.00      1138.0      1991.0  47.812363 -122.575620\n",
       "4    98346  305000   3.0   2.00      1504.0      2005.0  47.813073 -122.576232"
      ]
     },
     "execution_count": 2,
     "metadata": {},
     "output_type": "execute_result"
    }
   ],
   "source": [
    "df = pd.read_csv('data/redfin_2020-09-06-14-34-34.csv')\n",
    "df.columns = [c.lower().replace(' ', '_') for c in df.columns]\n",
    "cols_to_drop = [0,1,2,3,4,5,10,12,14,15,16,17,18,19,20,21,22,23,24]\n",
    "df.drop(df.columns[cols_to_drop],axis=1,inplace=True)\n",
    "df.rename(columns={'zip_or_postal_code': 'zipcode', 'square_feet': 'sqft_above'}, inplace=True)\n",
    "\n",
    "df.dropna()\n",
    "df.head()"
   ]
  },
  {
   "cell_type": "markdown",
   "metadata": {},
   "source": [
    "[('sqft_above',\n",
    " ('dist_to_seattle_center',\n",
    " ('med_income',\n",
    " ('home_age',\n",
    " ('bed_bath',\n",
    " ('bsmt_med',\n",
    " ('bsmt_large',\n",
    " ('bsmt_xlarge',\n",
    " ('three_story',]"
   ]
  },
  {
   "cell_type": "code",
   "execution_count": 3,
   "metadata": {},
   "outputs": [],
   "source": [
    "def calc_age(x):\n",
    "    if x == 0:\n",
    "        age = 0\n",
    "    else:\n",
    "        age = 2020 - x\n",
    "    return age\n",
    "df['home_age'] = df['year_built'].map(calc_age)\n",
    "df.drop(columns=['year_built'], inplace=True)"
   ]
  },
  {
   "cell_type": "code",
   "execution_count": 4,
   "metadata": {},
   "outputs": [],
   "source": [
    "import json\n",
    "from geopy.distance import geodesic\n",
    "from geopy.geocoders import Nominatim\n",
    "def get_distances(org_lat, org_long, dest_lat, dest_long):\n",
    "    \n",
    "    origin = (org_lat, org_long)\n",
    "    destination = (dest_lat, dest_long)\n",
    "    \n",
    "    distance = geodesic(origin, destination).miles\n",
    "    \n",
    "    return distance\n",
    "\n",
    "coords = list(zip(df.latitude, df.longitude))\n",
    "seattle_center = (47.6219, -122.3517)\n",
    "seattle_center_dist = [get_distances(coords[k][0], coords[k][1],\n",
    "                       seattle_center[0], seattle_center[1]) for k in range(len(coords))]\n",
    "df['distance_to_seattle_center'] = seattle_center_dist"
   ]
  },
  {
   "cell_type": "code",
   "execution_count": 5,
   "metadata": {},
   "outputs": [],
   "source": [
    "#df1 = pd.read_csv('data/zipcodedata.csv')\n",
    "#df = df.merge(df1, on='zipcode', how='outer')\n",
    "#df"
   ]
  },
  {
   "cell_type": "code",
   "execution_count": 6,
   "metadata": {},
   "outputs": [],
   "source": [
    "#(max-min)*predicted_price + mean(predicted prices) = x, e^x=price\n",
    "#X_train, X_train, y_train, y_test = train_test_split(X_degree2, y, test_size=0.3, random_state=123)\n",
    "#reg_poly2 = LinearRegression().fit(X_degree2, y)\n",
    "#y_hat_train = reg_poly2.predict(X_train)\n",
    "#y_hat_test = reg_poly2.predict(X_test)\n",
    "#plt.plot(X, y_poly, linewidth=2, label='degree %d' % degree)\n",
    "#plt.legend(loc='lower left')"
   ]
  }
 ],
 "metadata": {
  "kernelspec": {
   "display_name": "learn-env",
   "language": "python",
   "name": "learn-env"
  },
  "language_info": {
   "codemirror_mode": {
    "name": "ipython",
    "version": 3
   },
   "file_extension": ".py",
   "mimetype": "text/x-python",
   "name": "python",
   "nbconvert_exporter": "python",
   "pygments_lexer": "ipython3",
   "version": "3.7.6"
  }
 },
 "nbformat": 4,
 "nbformat_minor": 2
}
