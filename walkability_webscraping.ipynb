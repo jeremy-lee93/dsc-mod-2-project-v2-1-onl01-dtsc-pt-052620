{
 "cells": [
  {
   "cell_type": "code",
   "execution_count": 90,
   "metadata": {
    "ExecuteTime": {
     "end_time": "2020-09-10T22:06:01.143033Z",
     "start_time": "2020-09-10T22:06:01.139006Z"
    }
   },
   "outputs": [],
   "source": [
    "import requests\n",
    "import pandas as pd\n",
    "from bs4 import BeautifulSoup\n",
    "import re\n",
    "import time\n"
   ]
  },
  {
   "cell_type": "code",
   "execution_count": 91,
   "metadata": {
    "ExecuteTime": {
     "end_time": "2020-09-10T22:06:02.818895Z",
     "start_time": "2020-09-10T22:06:02.255888Z"
    }
   },
   "outputs": [
    {
     "data": {
      "text/plain": [
       "{'place_id': 144995141,\n",
       " 'licence': 'Data © OpenStreetMap contributors, ODbL 1.0. https://osm.org/copyright',\n",
       " 'osm_type': 'way',\n",
       " 'osm_id': 236673600,\n",
       " 'lat': '47.5112302',\n",
       " 'lon': '-122.25676111324441',\n",
       " 'display_name': '10012, 61st Avenue South, Rainier Beach, Tamill, Seattle, King County, Washington, 98178, United States of America',\n",
       " 'address': {'house_number': '10012',\n",
       "  'road': '61st Avenue South',\n",
       "  'neighbourhood': 'Rainier Beach',\n",
       "  'hamlet': 'Tamill',\n",
       "  'city': 'Seattle',\n",
       "  'county': 'King County',\n",
       "  'state': 'Washington',\n",
       "  'postcode': '98178',\n",
       "  'country': 'United States of America',\n",
       "  'country_code': 'us'},\n",
       " 'boundingbox': ['47.511189', '47.5112943', '-122.2568571', '-122.2566651']}"
      ]
     },
     "execution_count": 91,
     "metadata": {},
     "output_type": "execute_result"
    }
   ],
   "source": [
    "#Example of how to get an address from Nominatim api using first entry from df\n",
    "url_ex = \"\"\"https://nominatim.openstreetmap.org/reverse?format=json&lat=47.5112&lon=-122.257\"\"\"\n",
    "location_details_ex = requests.get(url_ex) #api request will return a json object\n",
    "location_details_ex.json() #view json object"
   ]
  },
  {
   "cell_type": "code",
   "execution_count": 92,
   "metadata": {
    "ExecuteTime": {
     "end_time": "2020-09-10T22:06:19.804381Z",
     "start_time": "2020-09-10T22:06:19.792321Z"
    }
   },
   "outputs": [
    {
     "data": {
      "text/plain": [
       "'10012-61st-Avenue-South-Seattle-Washington-98178'"
      ]
     },
     "execution_count": 92,
     "metadata": {},
     "output_type": "execute_result"
    }
   ],
   "source": [
    "#pull relevant information from json object to build address string\n",
    "house_number_ex = location_details_ex.json()['address']['house_number']\n",
    "road_ex = location_details_ex.json()['address']['road'].replace(' ','-')\n",
    "city_ex = location_details_ex.json()['address']['city']\n",
    "state_ex = location_details_ex.json()['address']['state']\n",
    "zipcode_ex = location_details_ex.json()['address']['postcode']\n",
    "\n",
    "address_elements_ex = [house_number_ex, road_ex, city_ex, state_ex, zipcode_ex]\n",
    "address_sum_ex = '-'.join(address_elements_ex) #reformat elements so they can be used in a url\n",
    "\n",
    "address_sum_ex"
   ]
  },
  {
   "cell_type": "code",
   "execution_count": 93,
   "metadata": {
    "ExecuteTime": {
     "end_time": "2020-09-10T22:06:23.496658Z",
     "start_time": "2020-09-10T22:06:23.087908Z"
    }
   },
   "outputs": [
    {
     "data": {
      "text/plain": [
       "'39'"
      ]
     },
     "execution_count": 93,
     "metadata": {},
     "output_type": "execute_result"
    }
   ],
   "source": [
    "score_page_ex = requests.get(f\"https://www.walkscore.com/score/{address_sum_ex}\")\n",
    "soup_ex = BeautifulSoup(score_page_ex.content, 'lxml')\n",
    "score_description_ex = soup_ex.find(\"span\", id='score-description-sentence') \n",
    "#paragraph description with walkability score stated is found within a span tag\n",
    "\n",
    "score_sentence_ex = score_description_ex.text.strip() #pull text from span tag\n",
    "\n",
    "result = re.search('Walk Score of (.*) out of 100',score_sentence_ex) \n",
    "#search part of score_sentence that includes walkability score\n",
    "\n",
    "result.group(1) #check result to ensure only the score was pulled\n"
   ]
  },
  {
   "cell_type": "code",
   "execution_count": 94,
   "metadata": {
    "ExecuteTime": {
     "end_time": "2020-09-10T22:06:26.252069Z",
     "start_time": "2020-09-10T22:06:26.242903Z"
    }
   },
   "outputs": [],
   "source": [
    "def get_walkability_score(latitude, longitude):\n",
    "    \"\"\"This function takes in a latitude and longitude for a location\n",
    "    and returns a walkability score for that location.\n",
    "    \n",
    "    latitude should be a float or an integer.\n",
    "    \n",
    "    longitude should be a float or an integer.\"\"\"\n",
    "    \n",
    "    url = f\"https://nominatim.openstreetmap.org/reverse?format=json&lat={latitude}&lon={longitude}\"\n",
    "    location_details = requests.get(url) #api request will return a json object\n",
    "    \n",
    "    address = location_details.json()['display_name'] #only need the value from the display name key\n",
    "    address_url = address.replace(',','').replace(' ', '-') #reformat address string\n",
    "    \n",
    "    score_page = requests.get(f\"https://www.walkscore.com/score/{address_url}\")\n",
    "    soup = BeautifulSoup(score_page.content, 'lxml')\n",
    "    score_description = soup.find(\"span\", id=\"score-description-sentence\") #sentence with walkability score\n",
    "    \n",
    "    if score_description == None:\n",
    "        score_num = \"Go back and check this address\"\n",
    "        \n",
    "    else:\n",
    "        score_sentence = score_description.text.strip() #sentence with leading and trailing spaces eliminated\n",
    "        search_result = re.search(\"Walk Score of (.*) out of 100\", score_sentence) #search for reg exp in sentence\n",
    "        score_str = search_result.group(1) #walk score as a string\n",
    "        score_num = int(score_str) #walk score as an integer\n",
    "    \n",
    "    \n",
    "    return score_num\n"
   ]
  },
  {
   "cell_type": "code",
   "execution_count": 95,
   "metadata": {
    "ExecuteTime": {
     "end_time": "2020-09-10T22:06:28.307802Z",
     "start_time": "2020-09-10T22:06:28.188122Z"
    }
   },
   "outputs": [],
   "source": [
    "df = pd.read_csv('DataTable.csv')\n",
    "coords = list(zip(df['lat'], df['long'])) #create list of tuples of latitude and longitude for each property"
   ]
  },
  {
   "cell_type": "code",
   "execution_count": 96,
   "metadata": {
    "ExecuteTime": {
     "end_time": "2020-09-10T22:06:28.923439Z",
     "start_time": "2020-09-10T22:06:28.915572Z"
    }
   },
   "outputs": [
    {
     "data": {
      "text/plain": [
       "21420"
      ]
     },
     "execution_count": 96,
     "metadata": {},
     "output_type": "execute_result"
    }
   ],
   "source": [
    "len(df)"
   ]
  },
  {
   "cell_type": "code",
   "execution_count": 97,
   "metadata": {
    "ExecuteTime": {
     "end_time": "2020-09-10T22:06:49.915210Z",
     "start_time": "2020-09-10T22:06:35.666591Z"
    }
   },
   "outputs": [],
   "source": [
    "walk_scores_list_ex = []\n",
    "for i in range(10):\n",
    "    walk_ex = get_walkability_score(coords[i][0], coords[i][1])\n",
    "    walk_scores_list_ex.append(walk_ex)\n",
    "    time.sleep(0.1) "
   ]
  },
  {
   "cell_type": "code",
   "execution_count": 98,
   "metadata": {
    "ExecuteTime": {
     "end_time": "2020-09-10T22:06:51.320944Z",
     "start_time": "2020-09-10T22:06:51.314235Z"
    }
   },
   "outputs": [
    {
     "data": {
      "text/plain": [
       "[39, 49, 19, 31, 6, 31, 55, 51, 21, 42]"
      ]
     },
     "execution_count": 98,
     "metadata": {},
     "output_type": "execute_result"
    }
   ],
   "source": [
    "walk_scores_list_ex"
   ]
  },
  {
   "cell_type": "markdown",
   "metadata": {},
   "source": [
    "The first attempt to scrape all coordinate pairs at the same time was unsuccessful. It seems that there is a buffering issue when making a bulk request to the Nominatim API. Therefore, we will only use a set of 2500 coordinates pairs at a time. The below 10 cells perform the same operation just on a different set of coordinate pairs."
   ]
  },
  {
   "cell_type": "code",
   "execution_count": 99,
   "metadata": {
    "ExecuteTime": {
     "end_time": "2020-09-10T22:52:07.328950Z",
     "start_time": "2020-09-10T22:07:08.371338Z"
    }
   },
   "outputs": [],
   "source": [
    "#running a for loop on the first 2500 coordinate pairs\n",
    "w_1 = []\n",
    "for i in range(2500):\n",
    "    walk_1 = get_walkability_score(coords[i][0], coords[i][1])\n",
    "    w_1.append(walk_1)\n",
    "    time.sleep(0.1) "
   ]
  },
  {
   "cell_type": "code",
   "execution_count": 100,
   "metadata": {
    "ExecuteTime": {
     "end_time": "2020-09-11T00:01:36.154575Z",
     "start_time": "2020-09-10T22:52:07.527402Z"
    }
   },
   "outputs": [],
   "source": [
    "#running a for loop on the second 2500 coordinate pairs\n",
    "time.sleep(5) #pause before starting\n",
    "w_2 = []\n",
    "for i in range(2500,5000):\n",
    "    walk_2 = get_walkability_score(coords[i][0], coords[i][1])\n",
    "    w_2.append(walk_2)\n",
    "    time.sleep(0.1) "
   ]
  },
  {
   "cell_type": "code",
   "execution_count": 101,
   "metadata": {
    "ExecuteTime": {
     "end_time": "2020-09-11T01:11:40.960538Z",
     "start_time": "2020-09-11T00:01:36.348883Z"
    }
   },
   "outputs": [],
   "source": [
    "#running a for loop on the third 2500 coordinate pairs\n",
    "time.sleep(5)\n",
    "w_3 = []\n",
    "for i in range(5000,7500):\n",
    "    walk_3 = get_walkability_score(coords[i][0], coords[i][1])\n",
    "    w_3.append(walk_3)\n",
    "    time.sleep(0.1) "
   ]
  },
  {
   "cell_type": "code",
   "execution_count": 102,
   "metadata": {
    "ExecuteTime": {
     "end_time": "2020-09-11T02:26:30.021357Z",
     "start_time": "2020-09-11T01:11:41.156181Z"
    }
   },
   "outputs": [],
   "source": [
    "#running a for loop on the third 2500 coordinate pairs\n",
    "time.sleep(5)\n",
    "w_4 = []\n",
    "for i in range(7500,10000):\n",
    "    walk_4 = get_walkability_score(coords[i][0], coords[i][1])\n",
    "    w_4.append(walk_4)\n",
    "    time.sleep(0.1) "
   ]
  },
  {
   "cell_type": "code",
   "execution_count": 103,
   "metadata": {
    "ExecuteTime": {
     "end_time": "2020-09-11T03:37:55.605449Z",
     "start_time": "2020-09-11T02:26:30.212356Z"
    }
   },
   "outputs": [],
   "source": [
    "#running a for loop on the fifth 2500 coordinate pairs\n",
    "time.sleep(5)\n",
    "w_5 = []\n",
    "for i in range(10000,12500):\n",
    "    walk_5 = get_walkability_score(coords[i][0], coords[i][1])\n",
    "    w_5.append(walk_5)\n",
    "    time.sleep(0.1) "
   ]
  },
  {
   "cell_type": "code",
   "execution_count": 104,
   "metadata": {
    "ExecuteTime": {
     "end_time": "2020-09-11T04:50:01.943571Z",
     "start_time": "2020-09-11T03:37:55.814722Z"
    }
   },
   "outputs": [],
   "source": [
    "#running a for loop on the sixth 2500 coordinate pairs\n",
    "time.sleep(5)\n",
    "w_6 = []\n",
    "for i in range(12500,15000):\n",
    "    walk_6 = get_walkability_score(coords[i][0], coords[i][1])\n",
    "    w_6.append(walk_6)\n",
    "    time.sleep(0.1) "
   ]
  },
  {
   "cell_type": "code",
   "execution_count": 105,
   "metadata": {
    "ExecuteTime": {
     "end_time": "2020-09-11T06:02:11.905597Z",
     "start_time": "2020-09-11T04:50:02.137439Z"
    }
   },
   "outputs": [],
   "source": [
    "#running a for loop on the seventh 2500 coordinate pairs\n",
    "time.sleep(5)\n",
    "w_7 = []\n",
    "for i in range(15000,17500):\n",
    "    walk_7 = get_walkability_score(coords[i][0], coords[i][1])\n",
    "    w_7.append(walk_7)\n",
    "    time.sleep(0.15) "
   ]
  },
  {
   "cell_type": "code",
   "execution_count": 106,
   "metadata": {
    "ExecuteTime": {
     "end_time": "2020-09-11T07:17:19.459465Z",
     "start_time": "2020-09-11T06:02:12.080699Z"
    }
   },
   "outputs": [],
   "source": [
    "#running a for loop on the seventh 2500 coordinate pairs\n",
    "time.sleep(5)\n",
    "w_8 = []\n",
    "for i in range(17500,20000):\n",
    "    walk_8 = get_walkability_score(coords[i][0], coords[i][1])\n",
    "    w_8.append(walk_8)\n",
    "    time.sleep(0.15) "
   ]
  },
  {
   "cell_type": "code",
   "execution_count": 107,
   "metadata": {
    "ExecuteTime": {
     "end_time": "2020-09-11T07:56:59.168756Z",
     "start_time": "2020-09-11T07:17:19.667047Z"
    }
   },
   "outputs": [],
   "source": [
    "#running a for loop on the seventh 2500 coordinate pairs\n",
    "time.sleep(5)\n",
    "w_9 = []\n",
    "for i in range(20000,21420):\n",
    "    walk_9 = get_walkability_score(coords[i][0], coords[i][1])\n",
    "    w_9.append(walk_9)\n",
    "    time.sleep(0.15) "
   ]
  },
  {
   "cell_type": "code",
   "execution_count": 108,
   "metadata": {
    "ExecuteTime": {
     "end_time": "2020-09-11T07:56:59.380929Z",
     "start_time": "2020-09-11T07:56:59.376362Z"
    }
   },
   "outputs": [],
   "source": [
    "#combine above lists into one list\n",
    "walk_scores_final = w_1+ w_2+ w_3 + w_4 + w_5 + w_6 + w_7 + w_8 + w_9  "
   ]
  },
  {
   "cell_type": "code",
   "execution_count": 109,
   "metadata": {
    "ExecuteTime": {
     "end_time": "2020-09-11T07:56:59.560524Z",
     "start_time": "2020-09-11T07:56:59.554145Z"
    }
   },
   "outputs": [
    {
     "data": {
      "text/plain": [
       "21420"
      ]
     },
     "execution_count": 109,
     "metadata": {},
     "output_type": "execute_result"
    }
   ],
   "source": [
    "#check length to make sure it matches dataframe length\n",
    "len(walk_scores_final)"
   ]
  },
  {
   "cell_type": "code",
   "execution_count": 110,
   "metadata": {
    "ExecuteTime": {
     "end_time": "2020-09-11T14:24:19.058893Z",
     "start_time": "2020-09-11T14:24:19.046008Z"
    }
   },
   "outputs": [
    {
     "data": {
      "text/plain": [
       "[580,\n",
       " 2813,\n",
       " 3901,\n",
       " 7226,\n",
       " 7278,\n",
       " 7762,\n",
       " 7871,\n",
       " 11101,\n",
       " 11523,\n",
       " 11687,\n",
       " 11755,\n",
       " 12057,\n",
       " 16114,\n",
       " 16130,\n",
       " 18423,\n",
       " 19223,\n",
       " 19900,\n",
       " 21078]"
      ]
     },
     "execution_count": 110,
     "metadata": {},
     "output_type": "execute_result"
    }
   ],
   "source": [
    "#we need to check which coordinates did not return a walkability score\n",
    "check_indices = []\n",
    "for i in range(len(df)):\n",
    "    if walk_scores_final[i] == 'Go back and check this address':\n",
    "        check_indices.append(i)\n",
    "    else:\n",
    "        continue\n",
    "        \n",
    "check_indices\n",
    "        "
   ]
  },
  {
   "cell_type": "markdown",
   "metadata": {},
   "source": [
    "There are 18 locations where we will need to look up the walkability score manually. If a walk score does not exist then that location will be given a value of 0."
   ]
  },
  {
   "cell_type": "code",
   "execution_count": 111,
   "metadata": {
    "ExecuteTime": {
     "end_time": "2020-09-11T14:35:02.720283Z",
     "start_time": "2020-09-11T14:35:02.713200Z"
    }
   },
   "outputs": [
    {
     "name": "stdout",
     "output_type": "stream",
     "text": [
      "(47.7255, -122.29700000000001)\n",
      "(47.4997, -122.37899999999999)\n",
      "(47.6828, -122.329)\n",
      "(47.6425, -122.374)\n",
      "(47.6425, -122.374)\n",
      "(47.6863, -122.09299999999999)\n",
      "(47.6977, -122.126)\n",
      "(47.4489, -122.456)\n",
      "(47.4203, -122.15700000000001)\n",
      "(47.4224, -122.15899999999999)\n",
      "(47.4198, -122.15799999999999)\n",
      "(47.6181, -122.117)\n",
      "(47.38800000000001, -122.234)\n",
      "(47.3881, -122.234)\n",
      "(47.5444, -122.165)\n",
      "(47.6836, -122.208)\n",
      "(47.7718, -122.208)\n",
      "(47.6624, -121.868)\n"
     ]
    }
   ],
   "source": [
    "for i in check_indices:\n",
    "    print(coords[i])"
   ]
  },
  {
   "cell_type": "code",
   "execution_count": 112,
   "metadata": {
    "ExecuteTime": {
     "end_time": "2020-09-11T14:56:10.971975Z",
     "start_time": "2020-09-11T14:56:10.967232Z"
    }
   },
   "outputs": [],
   "source": [
    "manual_scores = [80, 10, 83, 65, 65, 10, 19, 50, 8, 8, 5, 43, 79, 79, 55, 65, 45, 0]"
   ]
  },
  {
   "cell_type": "code",
   "execution_count": 113,
   "metadata": {
    "ExecuteTime": {
     "end_time": "2020-09-11T15:00:59.792532Z",
     "start_time": "2020-09-11T15:00:59.787299Z"
    }
   },
   "outputs": [],
   "source": [
    "#update walk_scores_final with correct walkability scores\n",
    "for i in range(len(check_indices)):\n",
    "    walk_scores_final[check_indices[i]] = manual_scores[i]"
   ]
  },
  {
   "cell_type": "code",
   "execution_count": 114,
   "metadata": {
    "ExecuteTime": {
     "end_time": "2020-09-11T15:04:07.119252Z",
     "start_time": "2020-09-11T15:04:07.106944Z"
    }
   },
   "outputs": [],
   "source": [
    "#final check to make sure we have integers for every index in walk_scores_final\n",
    "for i in range(len(walk_scores_final)):\n",
    "    if type(walk_scores_final[i]) == int:\n",
    "        continue\n",
    "    else:\n",
    "        print(f\"Problem at index {i}\")"
   ]
  },
  {
   "cell_type": "markdown",
   "metadata": {},
   "source": [
    "The above cell did not print anything to the screen which is great! The `walk_scores_final` list has nothing but integers, so we now have walkability scores for every coordinate pair.  We will put this list into a dataframe so that it can be saved as a csv file and concatenated to the master table later on."
   ]
  },
  {
   "cell_type": "code",
   "execution_count": 116,
   "metadata": {
    "ExecuteTime": {
     "end_time": "2020-09-11T15:07:34.907483Z",
     "start_time": "2020-09-11T15:07:34.882592Z"
    }
   },
   "outputs": [
    {
     "data": {
      "text/html": [
       "<div>\n",
       "<style scoped>\n",
       "    .dataframe tbody tr th:only-of-type {\n",
       "        vertical-align: middle;\n",
       "    }\n",
       "\n",
       "    .dataframe tbody tr th {\n",
       "        vertical-align: top;\n",
       "    }\n",
       "\n",
       "    .dataframe thead th {\n",
       "        text-align: right;\n",
       "    }\n",
       "</style>\n",
       "<table border=\"1\" class=\"dataframe\">\n",
       "  <thead>\n",
       "    <tr style=\"text-align: right;\">\n",
       "      <th></th>\n",
       "      <th>walk_score</th>\n",
       "    </tr>\n",
       "  </thead>\n",
       "  <tbody>\n",
       "    <tr>\n",
       "      <td>0</td>\n",
       "      <td>39</td>\n",
       "    </tr>\n",
       "    <tr>\n",
       "      <td>1</td>\n",
       "      <td>49</td>\n",
       "    </tr>\n",
       "    <tr>\n",
       "      <td>2</td>\n",
       "      <td>19</td>\n",
       "    </tr>\n",
       "    <tr>\n",
       "      <td>3</td>\n",
       "      <td>31</td>\n",
       "    </tr>\n",
       "    <tr>\n",
       "      <td>4</td>\n",
       "      <td>6</td>\n",
       "    </tr>\n",
       "  </tbody>\n",
       "</table>\n",
       "</div>"
      ],
      "text/plain": [
       "   walk_score\n",
       "0          39\n",
       "1          49\n",
       "2          19\n",
       "3          31\n",
       "4           6"
      ]
     },
     "execution_count": 116,
     "metadata": {},
     "output_type": "execute_result"
    }
   ],
   "source": [
    "walkability_df = pd.DataFrame(data=walk_scores_final, columns=['walk_score'])\n",
    "walkability_df.head()"
   ]
  },
  {
   "cell_type": "code",
   "execution_count": 117,
   "metadata": {
    "ExecuteTime": {
     "end_time": "2020-09-11T15:09:06.769949Z",
     "start_time": "2020-09-11T15:09:06.703577Z"
    }
   },
   "outputs": [],
   "source": [
    "walkability_df.to_csv('walkability_scores.csv', index=False)"
   ]
  },
  {
   "cell_type": "code",
   "execution_count": null,
   "metadata": {},
   "outputs": [],
   "source": []
  }
 ],
 "metadata": {
  "kernelspec": {
   "display_name": "learn-env",
   "language": "python",
   "name": "learn-env"
  },
  "language_info": {
   "codemirror_mode": {
    "name": "ipython",
    "version": 3
   },
   "file_extension": ".py",
   "mimetype": "text/x-python",
   "name": "python",
   "nbconvert_exporter": "python",
   "pygments_lexer": "ipython3",
   "version": "3.6.9"
  },
  "toc": {
   "base_numbering": 1,
   "nav_menu": {},
   "number_sections": true,
   "sideBar": true,
   "skip_h1_title": false,
   "title_cell": "Table of Contents",
   "title_sidebar": "Contents",
   "toc_cell": false,
   "toc_position": {},
   "toc_section_display": true,
   "toc_window_display": false
  },
  "varInspector": {
   "cols": {
    "lenName": 16,
    "lenType": 16,
    "lenVar": 40
   },
   "kernels_config": {
    "python": {
     "delete_cmd_postfix": "",
     "delete_cmd_prefix": "del ",
     "library": "var_list.py",
     "varRefreshCmd": "print(var_dic_list())"
    },
    "r": {
     "delete_cmd_postfix": ") ",
     "delete_cmd_prefix": "rm(",
     "library": "var_list.r",
     "varRefreshCmd": "cat(var_dic_list()) "
    }
   },
   "types_to_exclude": [
    "module",
    "function",
    "builtin_function_or_method",
    "instance",
    "_Feature"
   ],
   "window_display": false
  }
 },
 "nbformat": 4,
 "nbformat_minor": 2
}
